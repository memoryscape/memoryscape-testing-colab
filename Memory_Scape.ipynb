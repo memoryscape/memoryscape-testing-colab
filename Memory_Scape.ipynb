{
  "nbformat": 4,
  "nbformat_minor": 0,
  "metadata": {
    "colab": {
      "provenance": [],
      "include_colab_link": true
    },
    "kernelspec": {
      "name": "python3",
      "display_name": "Python 3"
    },
    "language_info": {
      "name": "python"
    }
  },
  "cells": [
    {
      "cell_type": "markdown",
      "metadata": {
        "id": "view-in-github",
        "colab_type": "text"
      },
      "source": [
        "<a href=\"https://colab.research.google.com/github/memoryscape/memoryscape-testing-colab/blob/main/Memory_Scape.ipynb\" target=\"_parent\"><img src=\"https://colab.research.google.com/assets/colab-badge.svg\" alt=\"Open In Colab\"/></a>"
      ]
    },
    {
      "cell_type": "code",
      "source": [
        "from google.colab import drive\n",
        "drive.mount('/content/drive')"
      ],
      "metadata": {
        "colab": {
          "base_uri": "https://localhost:8080/"
        },
        "id": "Xez_PuDjn7de",
        "outputId": "f2c9f074-418b-455c-f36a-f8fbd84bb565"
      },
      "execution_count": null,
      "outputs": [
        {
          "output_type": "stream",
          "name": "stdout",
          "text": [
            "Drive already mounted at /content/drive; to attempt to forcibly remount, call drive.mount(\"/content/drive\", force_remount=True).\n"
          ]
        }
      ]
    },
    {
      "cell_type": "code",
      "execution_count": null,
      "metadata": {
        "id": "3ezP76NJko1v"
      },
      "outputs": [],
      "source": [
        "from imutils import paths\n",
        "import numpy as np\n",
        "import argparse\n",
        "import imutils\n",
        "import cv2"
      ]
    },
    {
      "cell_type": "code",
      "source": [
        "from firebase_admin import credentials, initialize_app, storage\n",
        "# Init firebase with your credentials\n",
        "cred = credentials.Certificate(\"/content/memoryscape-59213-b6a4d1938f99.json\")\n",
        "initialize_app(cred, {'storageBucket': 'memoryscape-59213.appspot.com'})"
      ],
      "metadata": {
        "id": "lbr0rkk0k1n2",
        "colab": {
          "base_uri": "https://localhost:8080/"
        },
        "outputId": "dd559955-02ae-4343-bbda-d2974028617d"
      },
      "execution_count": null,
      "outputs": [
        {
          "output_type": "execute_result",
          "data": {
            "text/plain": [
              "<firebase_admin.App at 0x7e3ffa80a7d0>"
            ]
          },
          "metadata": {},
          "execution_count": 4
        }
      ]
    },
    {
      "cell_type": "code",
      "source": [
        "import matplotlib.pyplot as plt\n",
        "import matplotlib.image as mpimg"
      ],
      "metadata": {
        "id": "MRMR9_d3k582"
      },
      "execution_count": null,
      "outputs": []
    },
    {
      "cell_type": "code",
      "source": [
        "def stitchImage(size):\n",
        "  images = []\n",
        "  ct = 1\n",
        "\n",
        "  for i in range(size):\n",
        "    images.append(cv2.imread(\"./drive/MyDrive/images/IMG_\" + str(ct) + \".jpg\"))\n",
        "    ct += 1\n",
        "  prev = images[0]\n",
        "\n",
        "  for i in range(1, len(images)):\n",
        "    prev = np.concatenate([prev, images[i]], axis = 1)\n",
        "  cv2.imwrite(\"/content/res.jpg\", prev)\n",
        "\n",
        "  bucket = storage.bucket(\"memoryscape-59213.appspot.com\")\n",
        "  blob = bucket.blob(\"result.jpg\")\n",
        "  blob.upload_from_filename(\"/content/res.jpg\")\n",
        "  blob.make_public()\n",
        "  print(blob.public_url)"
      ],
      "metadata": {
        "id": "t69Bjleuk96T"
      },
      "execution_count": null,
      "outputs": []
    }
  ]
}